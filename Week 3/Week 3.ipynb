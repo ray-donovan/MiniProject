{
 "cells": [
  {
   "cell_type": "markdown",
   "id": "1654d251",
   "metadata": {},
   "source": [
    "# Learning outcome\n",
    "1. Load, display and save images.\n",
    "2. Load, show, and save videos.\n",
    "3. Resize images"
   ]
  },
  {
   "cell_type": "markdown",
   "id": "2d5d3aa6",
   "metadata": {},
   "source": [
    "## Why OpenCV\n",
    " - Compatible in multiple major os, lke windows, linux and macos, can be \n",
    " written in different languages: c++, python and java.\n",
    " - Interoperable with Numpy module, thereby faster computation of image array\n",
    " - Large community support, a lot of resources online (articles and stackoverflow posts)"
   ]
  },
  {
   "cell_type": "markdown",
   "id": "d4882626",
   "metadata": {},
   "source": [
    "## Image formats\n",
    " - jpeg (.jpg, .jpeg, .jfif - obsolete)\n",
    "   - photos taken from camera\n",
    " - PNG (.png)\n",
    "   - website, larger file size compared to jpeg\n",
    " - tiff (.tif)\n",
    "   - high-quality printing, large file size\n",
    " - bmp (.bmp)\n",
    "   - multiple uses, large file size\n",
    " - gif (.gif) (opencv cant deal with this)\n",
    "   - animations, shallow color depth\n",
    " - webp (.webp)\n",
    "   - smaller file size compared to jpeg, png, IE 11 not supported"
   ]
  },
  {
   "cell_type": "markdown",
   "id": "dabbe536",
   "metadata": {},
   "source": [
    "## Setup"
   ]
  },
  {
   "cell_type": "code",
   "execution_count": 5,
   "id": "97d9dfd5",
   "metadata": {},
   "outputs": [],
   "source": [
    "import sys\n",
    "\n",
    "#Python 3.7 required\n",
    "assert sys.version_info >= (3, 7)\n",
    "\n",
    "import numpy as np\n",
    "import cv2 as cv"
   ]
  },
  {
   "cell_type": "code",
   "execution_count": 6,
   "id": "04855152",
   "metadata": {},
   "outputs": [
    {
     "name": "stdout",
     "output_type": "stream",
     "text": [
      "4.8.0\n"
     ]
    }
   ],
   "source": [
    "#OpenCV Version\n",
    "print(cv.__version__)"
   ]
  },
  {
   "cell_type": "markdown",
   "id": "4aa453b7",
   "metadata": {},
   "source": [
    "## Load and show images"
   ]
  },
  {
   "cell_type": "code",
   "execution_count": 4,
   "id": "2e755bca",
   "metadata": {},
   "outputs": [],
   "source": [
    "img = cv.imread(\"images/lena.jfif\")\n",
    "#second argument: 1 (default), 0(grayscale), -1(cv.IMREAD_UNCHANGED)\n",
    "grayscale = cv.imread(\"images/lena.jfif\", 0)\n",
    "\n",
    "cv.imshow(\"lena_color\", img)\n",
    "cv.imshow(\"lena_grayscale\", grayscale)\n",
    "cv.waitKey(0)   #Key binding function: wait for user response\n",
    "cv.destroyAllWindows()"
   ]
  },
  {
   "cell_type": "code",
   "execution_count": 3,
   "id": "94f623e2",
   "metadata": {},
   "outputs": [],
   "source": [
    "def show_img(window_name, img):\n",
    "    \"\"\"2 arguments: window name and image\"\"\"\n",
    "    cv.imshow(window_name, img)\n",
    "    cv.waitKey(0)   #Key binding function: wait for user response\n",
    "    cv.destroyAllWindows()"
   ]
  },
  {
   "cell_type": "code",
   "execution_count": 6,
   "id": "f998d771",
   "metadata": {},
   "outputs": [],
   "source": [
    "img = cv.imread(\"images/lena.png\")"
   ]
  },
  {
   "cell_type": "code",
   "execution_count": 7,
   "id": "dc187188",
   "metadata": {},
   "outputs": [],
   "source": [
    "show_img(\"lena\", img)"
   ]
  },
  {
   "cell_type": "code",
   "execution_count": 8,
   "id": "574ccf9e",
   "metadata": {},
   "outputs": [
    {
     "name": "stdout",
     "output_type": "stream",
     "text": [
      "shape of jpeg images: (225, 225, 3)\n",
      "shape of jpeg images: (225, 225, 4)\n"
     ]
    }
   ],
   "source": [
    "img_jpeg = cv.imread(\"images/lena.jfif\", -1)\n",
    "img_png = cv.imread(\"images/lena.png\", -1)\n",
    "\n",
    "print(f\"shape of jpeg images: {img_jpeg.shape}\")\n",
    "print(f\"shape of jpeg images: {img_png.shape}\")      "
   ]
  },
  {
   "cell_type": "code",
   "execution_count": 1,
   "id": "e7666dee",
   "metadata": {},
   "outputs": [
    {
     "name": "stdout",
     "output_type": "stream",
     "text": [
      "Collecting imageio\n",
      "  Downloading imageio-2.31.1-py3-none-any.whl (313 kB)\n",
      "                                              0.0/313.2 kB ? eta -:--:--\n",
      "     -----------------                      143.4/313.2 kB 2.8 MB/s eta 0:00:01\n",
      "     -------------------------------------- 313.2/313.2 kB 3.2 MB/s eta 0:00:00\n",
      "Requirement already satisfied: numpy in c:\\users\\user\\appdata\\local\\programs\\python\\python39\\lib\\site-packages (from imageio) (1.25.0)\n",
      "Requirement already satisfied: pillow>=8.3.2 in c:\\users\\user\\appdata\\local\\programs\\python\\python39\\lib\\site-packages (from imageio) (9.5.0)\n",
      "Installing collected packages: imageio\n",
      "Successfully installed imageio-2.31.1\n"
     ]
    }
   ],
   "source": [
    "!pip install imageio"
   ]
  },
  {
   "cell_type": "code",
   "execution_count": 2,
   "id": "bf8733b0",
   "metadata": {},
   "outputs": [],
   "source": [
    "import imageio"
   ]
  },
  {
   "cell_type": "code",
   "execution_count": 11,
   "id": "03cb7c0b",
   "metadata": {},
   "outputs": [],
   "source": [
    "#gif\n",
    "GIF = imageio.mimread(\"images/rotating_earth_large.gif\")\n",
    "\n",
    "#change from RGB to BGR\n",
    "imgs = [cv.cvtColor(img, cv.COLOR_RGB2BGR) for img in GIF]\n",
    "\n",
    "for img in imgs:\n",
    "    cv.imshow(\"GIF\", img)\n",
    "    cv.waitKey(20)\n",
    "    \n",
    "cv.destroyAllWindows()"
   ]
  },
  {
   "cell_type": "markdown",
   "id": "36e519fa",
   "metadata": {},
   "source": [
    "## save images\n",
    "   cv.imwrite(filepath, img)"
   ]
  },
  {
   "cell_type": "code",
   "execution_count": 13,
   "id": "b622d34a",
   "metadata": {},
   "outputs": [],
   "source": [
    "#a more formalized approach\n",
    "img = cv.imread(cv.samples.findFile(\"images/lena.jfif\"))\n",
    "\n",
    "if img is None:\n",
    "    sys.exit(\"Not a valid filepath\")\n",
    "    \n",
    "cv.imshow(\"img\", img)\n",
    "k = cv.waitKey(0) & 0xFF\n",
    "if k == 115: #115 ascii code for key \"s\" or if k == ord('s')\n",
    "    cv.imwrite(\"lena_save.jpg\", img)\n",
    "    \n",
    "cv.destroyAllWindows()"
   ]
  },
  {
   "cell_type": "markdown",
   "id": "2ddc89fb",
   "metadata": {},
   "source": [
    "## Same operations on videos\n",
    "\n",
    "Load and show videos"
   ]
  },
  {
   "cell_type": "code",
   "execution_count": 20,
   "id": "4f039921",
   "metadata": {},
   "outputs": [],
   "source": [
    "cap = cv.VideoCapture(\"videos/img_pexels.mp4\")\n",
    "\n",
    "if not cap.isOpened():\n",
    "    sys.exit(\"No video file is found\")\n",
    "    \n",
    "cv.namedWindow(\"frame\", cv.WINDOW_NORMAL)\n",
    "while True:\n",
    "    ret, frame = cap.read()\n",
    "    \n",
    "    if not ret:\n",
    "        print(\"No frame received!\")\n",
    "        break\n",
    "        \n",
    "    cv.imshow(\"frame\", frame)\n",
    "    k = cv.waitKey(1) & 0xFF\n",
    "    if k == 27:\n",
    "        break\n",
    "        \n",
    "cap.release()\n",
    "cv.destroyAllWindows()"
   ]
  },
  {
   "cell_type": "code",
   "execution_count": 26,
   "id": "005b6eb5",
   "metadata": {},
   "outputs": [
    {
     "ename": "SystemExit",
     "evalue": "No webcam found",
     "output_type": "error",
     "traceback": [
      "An exception has occurred, use %tb to see the full traceback.\n",
      "\u001b[1;31mSystemExit\u001b[0m\u001b[1;31m:\u001b[0m No webcam found\n"
     ]
    }
   ],
   "source": [
    "#Webcam, use laptop/pc that has a working webcam\n",
    "cap = cv.VideoCapture(0) #webcam\n",
    "\n",
    "if not cap.isOpened():\n",
    "    sys.exit(\"No webcam found\")\n",
    "    \n",
    "#save video object\n",
    "#arguments: filepath, fourcc, fps, width and height\n",
    "fourcc = cv.VideoWriter_fourcc(\"M\", \"J\", \"P\", \"G\")\n",
    "fps = 15\n",
    "w, h = int(cap.get(3)), int(cap.get(4))\n",
    "out = cv.VideoWriter(\"videos/out.avi\", fourcc, fps, (w,h))\n",
    "\n",
    "while True:\n",
    "    ret, frame = cap.read()\n",
    "    \n",
    "    if not ret:\n",
    "        print(\"No frame received!\")\n",
    "        break\n",
    "        \n",
    "    out.write(frame)\n",
    "    cv.imshow(\"frame\", frame)\n",
    "    k = cv.waitKey(1) & 0xFF\n",
    "    if k == 27:\n",
    "        break\n",
    "\n",
    "cap.release()\n",
    "out.release()\n",
    "cv.destroyALlWindows()"
   ]
  },
  {
   "cell_type": "code",
   "execution_count": 28,
   "id": "2f787a54",
   "metadata": {},
   "outputs": [],
   "source": [
    "import time"
   ]
  },
  {
   "cell_type": "code",
   "execution_count": 31,
   "id": "7764de37",
   "metadata": {},
   "outputs": [
    {
     "name": "stdout",
     "output_type": "stream",
     "text": [
      "No frame received!\n"
     ]
    }
   ],
   "source": [
    "cap = cv.VideoCapture(\"videos/img_pexels.mp4\")\n",
    "\n",
    "if not cap.isOpened():\n",
    "    sys.exit(\"No video file is found\")\n",
    "    \n",
    "cv.namedWindow(\"frame\", cv.WINDOW_NORMAL)\n",
    "start = time.time()\n",
    "while True:\n",
    "    ret, frame = cap.read()\n",
    "    \n",
    "    if not ret:\n",
    "        print(\"No frame received!\")\n",
    "        break\n",
    "        \n",
    "    cv.imshow(\"frame\", frame)\n",
    "    k = cv.waitKey(1) & 0xFF\n",
    "    if k == 27:\n",
    "        break\n",
    " \n",
    "end = time.time()\n",
    "#cap.release()\n",
    "cv.destroyAllWindows()"
   ]
  },
  {
   "cell_type": "code",
   "execution_count": 32,
   "id": "08a60cf3",
   "metadata": {},
   "outputs": [
    {
     "name": "stdout",
     "output_type": "stream",
     "text": [
      "The actual frame rate from the file: 60.0\n",
      "The fps if stream using OpenCV: 61.50020550669125\n"
     ]
    }
   ],
   "source": [
    "print(f\"The actual frame rate from the file: {cap.get(5)}\")\n",
    "n_frames = cap.get(7)\n",
    "print(f\"The fps if stream using OpenCV: {n_frames / (end - start)}\")"
   ]
  },
  {
   "cell_type": "markdown",
   "id": "803bfd91",
   "metadata": {},
   "source": [
    "## Image resizing\n",
    "1. set arbitrary dimension (w, h).\n",
    "2. scale factor"
   ]
  },
  {
   "cell_type": "code",
   "execution_count": 37,
   "id": "5fa0d91e",
   "metadata": {},
   "outputs": [],
   "source": [
    "# 1 method: arbitrary dimension\n",
    "img = cv.imread(\"images/soccer.jpg\")\n",
    "\n",
    "new_height = 300\n",
    "new_width = 450\n",
    "\n",
    "#numpy is (height, width) but cv resize is (width, height)\n",
    "\n",
    "#3rd = fx, 4th = fy, 5th = interpolation method (default: bilinear)\n",
    "img_resize = cv.resize(img, (new_width, new_height))\n",
    "\n",
    "cv.imshow(\"original\", img)\n",
    "show_img(\"resize\", img_resize)"
   ]
  },
  {
   "cell_type": "code",
   "execution_count": 36,
   "id": "ee530409",
   "metadata": {},
   "outputs": [
    {
     "data": {
      "text/plain": [
       "(1200, 800, 3)"
      ]
     },
     "execution_count": 36,
     "metadata": {},
     "output_type": "execute_result"
    }
   ],
   "source": [
    "img.shape"
   ]
  },
  {
   "cell_type": "code",
   "execution_count": 38,
   "id": "43b16401",
   "metadata": {},
   "outputs": [],
   "source": [
    "# 2 method: scale factor\n",
    "img = cv.imread(\"images/lena.jfif\")\n",
    "\n",
    "#If width is set to 300, what is the height? (while keeping the aspect ratio constant)\n",
    "img_resize = cv.resize(img, None, fx=1.5, fy=1.5)\n",
    "cv.imshow(\"original\", img)\n",
    "show_img(\"resize\", img_resize)"
   ]
  },
  {
   "cell_type": "markdown",
   "id": "36205f0b",
   "metadata": {},
   "source": [
    "## Exercise 1"
   ]
  },
  {
   "cell_type": "code",
   "execution_count": 3,
   "id": "4ea72ab8",
   "metadata": {},
   "outputs": [],
   "source": [
    "img_dog = cv.imread(cv.samples.findFile(\"images/dog.jfif\"))\n",
    "\n",
    "if img_dog is None:\n",
    "    sys.exit(\"Not a valid file path\")\n",
    "    \n",
    "cv.imshow(\"dog\", img_dog)\n",
    "k = cv.waitKey(0) & 0xFF\n",
    "if k == 115:\n",
    "    cv.imwrite(\"dog_save.png\", img_dog)\n",
    "    \n",
    "cv.destroyAllWindows()"
   ]
  },
  {
   "cell_type": "markdown",
   "id": "cb7f389f",
   "metadata": {},
   "source": [
    "## Exercise 2"
   ]
  },
  {
   "cell_type": "code",
   "execution_count": 6,
   "id": "808625d7",
   "metadata": {},
   "outputs": [],
   "source": [
    "#1ST WAY\n",
    "img_color = cv.imread(cv.samples.findFile(\"images/dog.jfif\"))\n",
    "img_grayscale = cv.imread(cv.samples.findFile(\"images/dog.jfif\"), 0)\n",
    "img_grayscale2 = cv.cvtColor(img_color, cv.COLOR_BGR2GRAY)\n",
    "\n",
    "if img_color is None or img_grayscale is None:\n",
    "    sys.exit(\"Invalid file path\")\n",
    "    \n",
    "cv.imshow(\"color\", img_color)\n",
    "cv.imshow(\"grayscale\", img_grayscale)\n",
    "\n",
    "cv.waitKey(0)\n",
    "cv.destroyAllWindows()"
   ]
  },
  {
   "cell_type": "code",
   "execution_count": 7,
   "id": "d5226ba3",
   "metadata": {},
   "outputs": [],
   "source": [
    "#2ND WAY\n",
    "import matplotlib.pyplot as plt"
   ]
  },
  {
   "cell_type": "code",
   "execution_count": 13,
   "id": "725b168b",
   "metadata": {},
   "outputs": [
    {
     "data": {
      "image/png": "[encoded data removed]",
      "text/plain": [
       "<Figure size 432x288 with 2 Axes>"
      ]
     },
     "metadata": {},
     "output_type": "display_data"
    }
   ],
   "source": [
    "img_rgb = cv.cvtColor(img_color, cv.COLOR_BGR2RGB)\n",
    "\n",
    "plt.subplot(121)\n",
    "plt.imshow(img_rgb)\n",
    "plt.xticks([]), plt.yticks([])\n",
    "plt.subplot(122)\n",
    "plt.imshow(img_grayscale2, cmap=plt.cm.gray)\n",
    "plt.xticks([]), plt.yticks([])\n",
    "plt.suptitle(\"color vs grayscale\")\n",
    "plt.show()"
   ]
  },
  {
   "cell_type": "code",
   "execution_count": 19,
   "id": "fbb165df",
   "metadata": {},
   "outputs": [],
   "source": [
    "#3RD WAY :concatenation\n",
    "gray = cv.cvtColor(img_grayscale2, cv.COLOR_GRAY2BGR)\n",
    "\n",
    "img_combined = np.hstack((img_color, gray))\n",
    "\n",
    "##or\n",
    "\n",
    "img_combined2 = np.concatenate((img_color, gray), axis=1)\n",
    "show_img(\"joined\", img_combined2)\n"
   ]
  },
  {
   "cell_type": "markdown",
   "id": "dc6cf0fd",
   "metadata": {},
   "source": [
    "## Exercise 3"
   ]
  },
  {
   "cell_type": "code",
   "execution_count": 2,
   "id": "125894da",
   "metadata": {},
   "outputs": [
    {
     "name": "stdout",
     "output_type": "stream",
     "text": [
      "540,  960\n"
     ]
    }
   ],
   "source": [
    "\n",
    "import cv2 as cv\n",
    "cap = cv.VideoCapture(\"img_pexels.mp4\")\n",
    "\n",
    "if not cap.isOpened():\n",
    "    sys.exit(\"The file does not exist\")\n",
    "\n",
    "cv.namedWindow(\"frame\", cv.WINDOW_NORMAL)\n",
    "\n",
    "fourcc = cv.VideoWriter_fourcc(*'mp4v')\n",
    "fps = 60\n",
    "w, h = int((int(cap.get(3)) / 2)), int((int(cap.get(4)) / 2)) \n",
    "print(f\"{w},  {h}\")\n",
    "\n",
    "out = cv.VideoWriter('smaller_img_pexels.mp4', fourcc, fps, (w,h))\n",
    "\n",
    "while True:\n",
    "    ret, frame = cap.read()\n",
    "    \n",
    "    frame = cv.resize(frame, (w,h))\n",
    "    if not ret:\n",
    "        print(\"No frame received!\")\n",
    "        break\n",
    "        \n",
    "    out.write(frame)\n",
    "    cv.imshow(\"frame\", frame)\n",
    "    k = cv.waitKey(1) & 0xFF\n",
    "    if k == 27:\n",
    "        break\n",
    "        \n",
    "cap.release()\n",
    "out.release()\n",
    "cv.destroyAllWindows()"
   ]
  },
  {
   "cell_type": "markdown",
   "id": "ba9c5916",
   "metadata": {},
   "source": [
    "## Exercise 4"
   ]
  },
  {
   "cell_type": "code",
   "execution_count": 13,
   "id": "a77bdb06",
   "metadata": {},
   "outputs": [],
   "source": [
    "#1. Linear interpolation\n",
    "img = cv.imread(\"dog.jfif\")\n",
    "img_linear = cv.resize(img, None, fx=1.5, fy=1.5, interpolation=cv.INTER_LINEAR)\n",
    "\n",
    "show_img(\"Linear interpolation\", img_linear)\n",
    "\n",
    "\n",
    "#2. Cubic interpolation\n",
    "img = cv.imread(\"dog.jfif\")\n",
    "img_cubic = cv.resize(img, None, fx=1.5, fy=1.5, interpolation=cv.INTER_CUBIC)\n",
    "\n",
    "show_img(\"Cubic Interpolation\", img_cubic)\n",
    "\n",
    "\n",
    "#3. nearest neighbor interpolation\n",
    "img = cv.imread(\"dog.jfif\")\n",
    "img_nearest = cv.resize(img, None, fx=1.5, fy=1.5, interpolation=cv.INTER_NEAREST)\n",
    "\n",
    "show_img(\"Nearest neighbor interpolation\", img_nearest)"
   ]
  },
  {
   "cell_type": "markdown",
   "id": "162660fc",
   "metadata": {},
   "source": [
    "## Comments regarding three of the interpolation methods used\n",
    "\n",
    "- Linear Interpolation\n",
    "  - Smoothest \n",
    "  \n",
    "- Cubic Interpolation\n",
    "  - In between linear and nearest neighbor interpolation\n",
    "  \n",
    "- Nearest Neighbor Interpolation\n",
    "  - Most pixelated among two other methods"
   ]
  }
 ],
 "metadata": {
  "kernelspec": {
   "display_name": "Python 3 (ipykernel)",
   "language": "python",
   "name": "python3"
  },
  "language_info": {
   "codemirror_mode": {
    "name": "ipython",
    "version": 3
   },
   "file_extension": ".py",
   "mimetype": "text/x-python",
   "name": "python",
   "nbconvert_exporter": "python",
   "pygments_lexer": "ipython3",
   "version": "3.9.0"
  }
 },
 "nbformat": 4,
 "nbformat_minor": 5
}
